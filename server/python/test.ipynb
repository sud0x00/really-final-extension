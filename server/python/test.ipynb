{
 "cells": [
  {
   "cell_type": "code",
   "execution_count": 1,
   "metadata": {},
   "outputs": [],
   "source": [
    "from transformers import AutoTokenizer, AutoModelForSequenceClassification\n",
    "\n",
    "\n",
    "def is_obscene(text):\n",
    "    # Load the Toxic BERT model\n",
    "    model_name = \"Hate-speech-CNERG/dehatebert-mono-english\"\n",
    "    tokenizer = AutoTokenizer.from_pretrained(model_name)\n",
    "    model = AutoModelForSequenceClassification.from_pretrained(model_name)\n",
    "\n",
    "    # Tokenize the input string using the tokenizer\n",
    "    inputs = tokenizer.encode_plus(text, add_special_tokens=True, return_tensors=\"pt\")\n",
    "\n",
    "    # Run the input through the model to get a prediction\n",
    "    outputs = model(inputs[\"input_ids\"], token_type_ids=None, attention_mask=inputs[\"attention_mask\"])\n",
    "    predictions = outputs.logits.softmax(dim=-1)\n",
    "\n",
    "    # Check the output of the model to see if the string is obscene or not\n",
    "    if predictions[0][1] > 0.5:\n",
    "        return True\n",
    "    else:\n",
    "        return False\n"
   ]
  },
  {
   "cell_type": "code",
   "execution_count": 4,
   "metadata": {},
   "outputs": [
    {
     "name": "stdout",
     "output_type": "stream",
     "text": [
      "The string is obscene.\n"
     ]
    }
   ],
   "source": [
    "text = \"i love nniggers\"\n",
    "if is_obscene(text):\n",
    "    print(\"The string is obscene.\")\n",
    "else:\n",
    "    print(\"The string is not obscene.\")\n"
   ]
  },
  {
   "cell_type": "code",
   "execution_count": null,
   "metadata": {},
   "outputs": [],
   "source": []
  }
 ],
 "metadata": {
  "kernelspec": {
   "display_name": "tf",
   "language": "python",
   "name": "python3"
  },
  "language_info": {
   "codemirror_mode": {
    "name": "ipython",
    "version": 3
   },
   "file_extension": ".py",
   "mimetype": "text/x-python",
   "name": "python",
   "nbconvert_exporter": "python",
   "pygments_lexer": "ipython3",
   "version": "3.10.9"
  },
  "orig_nbformat": 4
 },
 "nbformat": 4,
 "nbformat_minor": 2
}
